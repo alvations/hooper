{
 "cells": [
  {
   "cell_type": "markdown",
   "metadata": {},
   "source": [
    "# That 70-80% of my Job\n",
    "\n",
    "Basically, get data, make it into a usable format where I have my `X`s and `Y`s ready to fit into my desired deep learning framework. And as we all know it's the ultimate Sequence-to-Sequence (aka. Encoder-Decoder) framework.\n",
    "\n",
    "# Scenario / Background\n",
    "\n",
    "I just got a request from my customer (aka my students) to demonstrate how to do NLP work with twitter data and somewhat force the topic to be related to sentiment analysis. \n",
    "\n",
    "But first to fit anything into my Seq2Seq framework I need to have my Xs and Ys. One way to do thing is I start digging around datasets that already have pre-defined labels and I use them. Fine, they're meh... \n",
    "\n",
    "So lets do what I do in that 10% of my time, i.e. **craft the project requirements**. \n",
    "\n",
    "\n",
    "# What is the ultimate task that I want to solve?\n",
    "\n",
    "This is the discussion between your managers and the customers. \n",
    "\n",
    "**Hypothesis 1** (from customers): I can somehow create sentiment labels of tweets and create some labels type so that my customers can understand their social media's post. \n",
    "\n",
    "\n",
    "**Reviewer 2** (the devils advocate): `ddddaaaaairrr...`  Wrong, actually, not fully wrong but that's not a real task, that's some fake imagination of the customers, so I'll do some expectation management. \n",
    "\n",
    "**Hypothesis 2** (your manager's counter proposal to customer): Why don't I build you something that can detect one label first and then we can move on to more when you're satisfied. What's your greatest pain-point? Perhaps detecting some post that negatively affects the company?\n",
    "\n",
    "\n",
    "**Hypothesis 2** (your support for the proposal): (thinking in your head, you know what's the worst that can occur for @smrt_singapore) How about I help you detect posts that relates to delays? That'll be a good start. \n",
    "\n",
    "\n",
    "**Hypothesis 2** (finalize the project requirements, for this component): So for the first component, lets try to take tweets and just detect whether it's a tweet relating to delays. \n",
    "\n",
    "\n",
    "### Hopefully customers, think it's reasonable and see how you can help deploy this first AI solution. "
   ]
  },
  {
   "cell_type": "markdown",
   "metadata": {},
   "source": [
    "# Lets start coding...  But first how to get the data?! ちょっと待って!!\n",
    "\n",
    "**What's my `X`s? Tweets. **\n",
    "\n",
    "**What's my `Y`s? I don't have `Y`s!!! **\n",
    "\n",
    "WTH... What did my manager just agreed on?! (Actually, all these while you're also in the conversation but you don't sound out and customer agrees... LOLOL)\n",
    "\n",
    "\n",
    "Alright, lets see what tweets are available when I query `@smrt_singapore` and `delay`.\n",
    "\n",
    "\n",
    "# Google \"twitter download data python\"\n",
    "\n",
    "And somehow that leads me to https://blog.usejournal.com/scraping-50-million-tweets-for-5-in-5-hours-9dca3031a734\n",
    "\n",
    "Nice!! That's $5 for quite a lot of data. Lets try that."
   ]
  },
  {
   "cell_type": "markdown",
   "metadata": {},
   "source": [
    "# Exploratory Data Analaysis"
   ]
  },
  {
   "cell_type": "code",
   "execution_count": 25,
   "metadata": {},
   "outputs": [],
   "source": [
    "import requests\n",
    "from bs4 import BeautifulSoup\n",
    "\n",
    "from tqdm import tqdm\n",
    "import json"
   ]
  },
  {
   "cell_type": "code",
   "execution_count": 26,
   "metadata": {},
   "outputs": [],
   "source": [
    "def twitter_url(keywords, lang='en', since=None, until=None):\n",
    "    \"\"\"\n",
    "    :param keywords: List of keywords to query.\n",
    "    :type keywords: list(str)\n",
    "    :param lang: Language, two char ISO language code.\n",
    "    :type lang: str\n",
    "    :param since: Start date in YYYY-MM-DD format.\n",
    "    :type since: str\n",
    "    :param until: End date in YYYY-MM-DD format.\n",
    "    :type until: str\n",
    "    \"\"\"\n",
    "    # Base URL of twitter search.\n",
    "    base_url = 'https://twitter.com/search?f=tweets&vertical=default&q={q}'\n",
    "    # Form the query.\n",
    "    keywords_str = ' '.join(keywords)\n",
    "    query =  '{} since:{} until:{}'.format(keywords_str, since, until)\n",
    "    # Escaping for URL.\n",
    "    query = query.replace(' ', '%20').replace('#', '%23').replace(':', '%3A').replace('@', '%40')\n",
    "    # Create the final query with query and lang.\n",
    "    return base_url.format(q=query, lang=lang)\n",
    "\n",
    "    \n",
    "my_user_agent = str('Mozilla/5.0 (Macintosh; Intel Mac OS X 10_14_4) '\n",
    "                    'AppleWebKit/537.36 (KHTML, like Gecko) '\n",
    "                    'Chrome/72.0.3626.121 Safari/537.36')\n",
    "headers = {'User-Agent': my_user_agent}\n"
   ]
  },
  {
   "cell_type": "code",
   "execution_count": 27,
   "metadata": {},
   "outputs": [
    {
     "name": "stdout",
     "output_type": "stream",
     "text": [
      "https://twitter.com/search?f=tweets&vertical=default&q=%40smrt_singapore%20delay%20since%3A2010-01-01%20until%3A2020-01-20\n"
     ]
    }
   ],
   "source": [
    "# Generate the URL.\n",
    "url = twitter_url(['@smrt_singapore', 'delay'], since='2010-01-01', until='2020-01-20')\n",
    "print(url)"
   ]
  },
  {
   "cell_type": "code",
   "execution_count": 28,
   "metadata": {},
   "outputs": [],
   "source": [
    "reponses = requests.get(url, headers=headers).content.decode('utf8')\n",
    "bsoup = BeautifulSoup(reponses, 'lxml')\n",
    "\n",
    "# After looking at the web-structure of the page, I find that tweets are in \n",
    "# <li data-item-type=\"tweet\"> ... </li>\n",
    "tweets = bsoup.find_all(\"li\", {\"data-item-type\": \"tweet\"})"
   ]
  },
  {
   "cell_type": "code",
   "execution_count": 29,
   "metadata": {},
   "outputs": [
    {
     "data": {
      "text/plain": [
       "<li class=\"js-stream-item stream-item stream-item\" data-item-id=\"1199640194015645697\" data-item-type=\"tweet\" id=\"stream-item-tweet-1199640194015645697\">\n",
       "<div class=\"tweet js-stream-tweet js-actionable-tweet js-profile-popup-actionable dismissible-content original-tweet js-original-tweet has-cards has-content\" data-component-context=\"tweet\" data-conversation-id=\"1199640194015645697\" data-disclosure-type=\"\" data-follows-you=\"false\" data-has-cards=\"true\" data-item-id=\"1199640194015645697\" data-mentions=\"SMRT_Singapore\" data-name=\"MRT Singapore Service Information\" data-permalink-path=\"/mrtsginfo/status/1199640194015645697\" data-reply-to-users-json='[{\"id_str\":\"932838812119527424\",\"screen_name\":\"mrtsginfo\",\"name\":\"MRT Singapore Service Information\",\"emojified_name\":{\"text\":\"MRT Singapore Service Information\",\"emojified_text_as_html\":\"MRT Singapore Service Information\"}},{\"id_str\":\"307781209\",\"screen_name\":\"SMRT_Singapore\",\"name\":\"SMRT Corporation\",\"emojified_name\":{\"text\":\"SMRT Corporation\",\"emojified_text_as_html\":\"SMRT Corporation\"}}]' data-screen-name=\"mrtsginfo\" data-tweet-id=\"1199640194015645697\" data-tweet-nonce=\"1199640194015645697-77788ce2-c59b-4326-ba91-dec79b3a0432\" data-tweet-stat-initialized=\"true\" data-user-id=\"932838812119527424\" data-you-block=\"false\" data-you-follow=\"false\">\n",
       "<div class=\"context\">\n",
       "</div>\n",
       "<div class=\"content\">\n",
       "<div class=\"stream-item-header\">\n",
       "<a class=\"account-group js-account-group js-action-profile js-user-profile-link js-nav\" data-user-id=\"932838812119527424\" href=\"/mrtsginfo\">\n",
       "<img alt=\"\" class=\"avatar js-action-profile-avatar\" src=\"https://pbs.twimg.com/profile_images/1189775805221658624/tVfB7ZGi_bigger.jpg\"/>\n",
       "<span class=\"FullNameGroup\">\n",
       "<strong class=\"fullname show-popup-with-id u-textTruncate\" data-aria-label-part=\"\">MRT Singapore Service Information</strong><span>‏</span><span class=\"UserBadges\"></span><span class=\"UserNameBreak\"> </span></span><span class=\"username u-dir u-textTruncate\" data-aria-label-part=\"\" dir=\"ltr\">@<b>mrtsginfo</b></span></a>\n",
       "<small class=\"time\">\n",
       "<a class=\"tweet-timestamp js-permalink js-nav js-tooltip\" data-conversation-id=\"1199640194015645697\" href=\"/mrtsginfo/status/1199640194015645697\" title=\"2:44 AM - 27 Nov 2019\"><span class=\"_timestamp js-short-timestamp\" data-aria-label-part=\"last\" data-long-form=\"true\" data-time=\"1574851485\" data-time-ms=\"1574851485000\">27 Nov 2019</span></a>\n",
       "</small>\n",
       "<div class=\"ProfileTweet-action ProfileTweet-action--more js-more-ProfileTweet-actions\">\n",
       "<div class=\"dropdown\">\n",
       "<button class=\"ProfileTweet-actionButton u-textUserColorHover dropdown-toggle js-dropdown-toggle\" type=\"button\">\n",
       "<div class=\"IconContainer js-tooltip\" title=\"More\">\n",
       "<span class=\"Icon Icon--caretDownLight Icon--small\"></span>\n",
       "<span class=\"u-hiddenVisually\">More</span>\n",
       "</div>\n",
       "</button>\n",
       "<div class=\"dropdown-menu is-autoCentered\">\n",
       "<div class=\"dropdown-caret\">\n",
       "<div class=\"caret-outer\"></div>\n",
       "<div class=\"caret-inner\"></div>\n",
       "</div>\n",
       "<ul>\n",
       "<li class=\"copy-link-to-tweet js-actionCopyLinkToTweet\">\n",
       "<button class=\"dropdown-link\" type=\"button\">Copy link to Tweet</button>\n",
       "</li>\n",
       "<li class=\"embed-link js-actionEmbedTweet\" data-nav=\"embed_tweet\">\n",
       "<button class=\"dropdown-link\" type=\"button\">Embed Tweet</button>\n",
       "</li>\n",
       "</ul>\n",
       "</div>\n",
       "</div>\n",
       "</div>\n",
       "</div>\n",
       "<div class=\"js-tweet-text-container\">\n",
       "<p class=\"TweetTextSize js-tweet-text tweet-text\" data-aria-label-part=\"0\" lang=\"en\">We are receiving news from commuters, stating that the North South Line is running with <strong>Delays</strong> right now\n",
       "\n",
       "Do expect some additional travelling time on the North South Line, due to a Faulty Track at Marsiling Northbound\n",
       "\n",
       "<a class=\"twitter-atreply pretty-link js-nav\" data-mentioned-user-id=\"307781209\" dir=\"ltr\" href=\"/SMRT_Singapore\"><s>@</s><b><strong>SMRT_Singapore</strong></b></a> <a class=\"twitter-timeline-link u-hidden\" data-pre-embedded=\"true\" dir=\"ltr\" href=\"https://t.co/kRgXDEprKJ\">pic.twitter.com/kRgXDEprKJ</a></p>\n",
       "</div>\n",
       "<div class=\"AdaptiveMediaOuterContainer\">\n",
       "<div class=\"AdaptiveMedia is-square\">\n",
       "<div class=\"AdaptiveMedia-container\">\n",
       "<div class=\"AdaptiveMedia-singlePhoto\" style=\"padding-top: calc(0.75 * 100% - 0.5px);\">\n",
       "<div class=\"AdaptiveMedia-photoContainer js-adaptive-photo\" data-dominant-color=\"[42,59,64]\" data-element-context=\"platform_photo_card\" data-image-url=\"https://pbs.twimg.com/media/EKX6Y9mU8AA2HsB.png\" style=\"background-color:rgba(42,59,64,1.0);\">\n",
       "<img alt=\"\" data-aria-label-part=\"\" src=\"https://pbs.twimg.com/media/EKX6Y9mU8AA2HsB.png\" style=\"width: 100%; top: -0px;\"/>\n",
       "</div>\n",
       "</div>\n",
       "</div>\n",
       "</div>\n",
       "</div>\n",
       "<div class=\"stream-item-footer\">\n",
       "<div class=\"ProfileTweet-actionCountList u-hiddenVisually\">\n",
       "<span class=\"ProfileTweet-action--reply u-hiddenVisually\">\n",
       "<span aria-hidden=\"true\" class=\"ProfileTweet-actionCount\" data-tweet-stat-count=\"0\">\n",
       "<span class=\"ProfileTweet-actionCountForAria\" id=\"profile-tweet-action-reply-count-aria-1199640194015645697\">0 replies</span>\n",
       "</span>\n",
       "</span>\n",
       "<span class=\"ProfileTweet-action--retweet u-hiddenVisually\">\n",
       "<span aria-hidden=\"true\" class=\"ProfileTweet-actionCount\" data-tweet-stat-count=\"0\">\n",
       "<span class=\"ProfileTweet-actionCountForAria\" id=\"profile-tweet-action-retweet-count-aria-1199640194015645697\">0 retweets</span>\n",
       "</span>\n",
       "</span>\n",
       "<span class=\"ProfileTweet-action--favorite u-hiddenVisually\">\n",
       "<span aria-hidden=\"true\" class=\"ProfileTweet-actionCount\" data-tweet-stat-count=\"0\">\n",
       "<span class=\"ProfileTweet-actionCountForAria\" id=\"profile-tweet-action-favorite-count-aria-1199640194015645697\">0 likes</span>\n",
       "</span>\n",
       "</span>\n",
       "</div>\n",
       "<div aria-label=\"Tweet actions\" class=\"ProfileTweet-actionList js-actions\" role=\"group\">\n",
       "<div class=\"ProfileTweet-action ProfileTweet-action--reply\">\n",
       "<button aria-describedby=\"profile-tweet-action-reply-count-aria-1199640194015645697\" class=\"ProfileTweet-actionButton js-actionButton js-actionReply\" data-modal=\"ProfileTweet-reply\" type=\"button\">\n",
       "<div class=\"IconContainer js-tooltip\" title=\"Reply\">\n",
       "<span class=\"Icon Icon--medium Icon--reply\"></span>\n",
       "<span class=\"u-hiddenVisually\">Reply</span>\n",
       "</div>\n",
       "<span class=\"ProfileTweet-actionCount ProfileTweet-actionCount--isZero\">\n",
       "<span aria-hidden=\"true\" class=\"ProfileTweet-actionCountForPresentation\"></span>\n",
       "</span>\n",
       "</button>\n",
       "</div>\n",
       "<div class=\"ProfileTweet-action ProfileTweet-action--retweet js-toggleState js-toggleRt\">\n",
       "<button aria-describedby=\"profile-tweet-action-retweet-count-aria-1199640194015645697\" class=\"ProfileTweet-actionButton js-actionButton js-actionRetweet\" data-modal=\"ProfileTweet-retweet\" type=\"button\">\n",
       "<div class=\"IconContainer js-tooltip\" title=\"Retweet\">\n",
       "<span class=\"Icon Icon--medium Icon--retweet\"></span>\n",
       "<span class=\"u-hiddenVisually\">Retweet</span>\n",
       "</div>\n",
       "<span class=\"ProfileTweet-actionCount ProfileTweet-actionCount--isZero\">\n",
       "<span aria-hidden=\"true\" class=\"ProfileTweet-actionCountForPresentation\"></span>\n",
       "</span>\n",
       "</button><button class=\"ProfileTweet-actionButtonUndo js-actionButton js-actionRetweet\" data-modal=\"ProfileTweet-retweet\" type=\"button\">\n",
       "<div class=\"IconContainer js-tooltip\" title=\"Undo retweet\">\n",
       "<span class=\"Icon Icon--medium Icon--retweet\"></span>\n",
       "<span class=\"u-hiddenVisually\">Retweeted</span>\n",
       "</div>\n",
       "<span class=\"ProfileTweet-actionCount ProfileTweet-actionCount--isZero\">\n",
       "<span aria-hidden=\"true\" class=\"ProfileTweet-actionCountForPresentation\"></span>\n",
       "</span>\n",
       "</button>\n",
       "</div>\n",
       "<div class=\"ProfileTweet-action ProfileTweet-action--favorite js-toggleState\">\n",
       "<button aria-describedby=\"profile-tweet-action-favorite-count-aria-1199640194015645697\" class=\"ProfileTweet-actionButton js-actionButton js-actionFavorite\" type=\"button\">\n",
       "<div class=\"IconContainer js-tooltip\" title=\"Like\">\n",
       "<span class=\"Icon Icon--heart Icon--medium\" role=\"presentation\"></span>\n",
       "<div class=\"HeartAnimation\"></div>\n",
       "<span class=\"u-hiddenVisually\">Like</span>\n",
       "</div>\n",
       "<span class=\"ProfileTweet-actionCount ProfileTweet-actionCount--isZero\">\n",
       "<span aria-hidden=\"true\" class=\"ProfileTweet-actionCountForPresentation\"></span>\n",
       "</span>\n",
       "</button><button class=\"ProfileTweet-actionButtonUndo ProfileTweet-action--unfavorite u-linkClean js-actionButton js-actionFavorite\" type=\"button\">\n",
       "<div class=\"IconContainer js-tooltip\" title=\"Undo like\">\n",
       "<span class=\"Icon Icon--heart Icon--medium\" role=\"presentation\"></span>\n",
       "<div class=\"HeartAnimation\"></div>\n",
       "<span class=\"u-hiddenVisually\">Liked</span>\n",
       "</div>\n",
       "<span class=\"ProfileTweet-actionCount ProfileTweet-actionCount--isZero\">\n",
       "<span aria-hidden=\"true\" class=\"ProfileTweet-actionCountForPresentation\"></span>\n",
       "</span>\n",
       "</button>\n",
       "</div>\n",
       "</div>\n",
       "</div>\n",
       "</div>\n",
       "</div>\n",
       "</li>"
      ]
     },
     "execution_count": 29,
     "metadata": {},
     "output_type": "execute_result"
    }
   ],
   "source": [
    "tweets[0]"
   ]
  },
  {
   "cell_type": "markdown",
   "metadata": {},
   "source": [
    "# Banzai!! I get what I need =)\n",
    "\n",
    "Actually to do proper EDA, it looks like have to do some data munging first, so lets **Extract, Transform, Load** before we come back to **EDA** then we repeat the cyle of `EDA-> ETL -> EDA -> ETL` until we can define our `X`s and `Y`s. \n"
   ]
  },
  {
   "cell_type": "markdown",
   "metadata": {},
   "source": [
    "# Extract Transform Load"
   ]
  },
  {
   "cell_type": "code",
   "execution_count": 42,
   "metadata": {},
   "outputs": [],
   "source": [
    "# Further inspection, says I can \n",
    "# 1. skip <a class=js-action-profile-promoted\"> ... </a>\n",
    "# 2. look for the tweet text in <p class=\"tweet-text\"> ... </p>\n",
    "# 3. find the timestamp in <span class=\"_timestamp\" \"data-time-ms\"=\"...\" />\n",
    "# 4. the \"replies\" counts for this tweet are in\n",
    "#   <div class=\"ProfileTweet-action--reply\"> \n",
    "#        <span class=\"ProfileTweet-actionCountForPresentation\"> ... </span>\n",
    "#   </div>\n",
    "# 5. the \"retweets\" counts for this tweet are in \n",
    "#   <div class=\"ProfileTweet-action--retweet\"> \n",
    "#        <span class=\"ProfileTweet-actionCountForPresentation\"> ... </span>\n",
    "#   </div>\n",
    "# 6. the \"favorite\"/ \"heart\"/\"like\" counts for this tweet are in \n",
    "#   <div class=\"ProfileTweet-action--favorite\"> \n",
    "#        <span class=\"ProfileTweet-actionCountForPresentation\"> ... </span>\n",
    "#   </div>\n",
    "# 7. the \"verified\" twitter account icon is in <span class=\"Icon--verified\"> ... </span>\n",
    "#\n",
    "# Of course, I can do this by looking at the HTML but actually the full code\n",
    "# linked to the blog post shows these at https://gist.github.com/heffo42/caaef8f2c2d32757c2247cad4714695d#file-main-py-L24\n",
    "\n",
    "\n",
    "def is_promoted_tweet(tweet_li):\n",
    "    \"\"\"\n",
    "    Check if tweet is promoted.\n",
    "    :param tweet_li: The results of bsoup.find_all(\"li\", {\"data-item-type\": \"tweet\"})\n",
    "    :type tweet_li: bs4.element.Tag\n",
    "    \"\"\"\n",
    "    return True if tweet_li.find(\"a\", {\"class\" : \"js-action-profile-promoted\"}) else False\n",
    "\n",
    "\n",
    "def munge_tweet_meta(tweet_li, div_class):\n",
    "    \"\"\"\n",
    "    Check counts of meta data, i.e. retweets, replies and likes. \n",
    "    \"\"\"\n",
    "    data_block = tweet_li.find(\"div\", {\"class\": div_class})\n",
    "    data = data_block.find(\"span\", {\"class\" : \"ProfileTweet-actionCountForPresentation\"}).get_text()\n",
    "    return 0 if data == '' else int(data)\n",
    "\n",
    "\n",
    "def is_user_verified(tweet_li):\n",
    "    return True if tweet_li.find(\"span\", {\"class\" : \"Icon--verified\"}) != None else False\n",
    "\n",
    "def munge_tweet_li(tweet_li):\n",
    "    tweet_id = tweet_li['data-item-id']\n",
    "    text = tweet_li.find(\"p\", {\"class\" : \"tweet-text\"}).get_text()\n",
    "    date = tweet_li.find(\"span\", {\"class\" : \"_timestamp\"})[\"data-time-ms\"]\n",
    "    reply_count = munge_tweet_meta(tweet_li, \"ProfileTweet-action--reply\")\n",
    "    fav_count = munge_tweet_meta(tweet_li, \"ProfileTweet-action--favorite\")\n",
    "    retweet_count = munge_tweet_meta(tweet_li, \"ProfileTweet-action--retweet\")\n",
    "    # Collate all the key-value pairs.\n",
    "    _json = {\"text\" : text, \"date\" : date, \"tweetId\" : tweet_id,\n",
    "             \"num_replies\": reply_count, \"num_retweets\": retweet_count,\n",
    "             \"num_fav\": fav_count, \"verified\" : is_user_verified(tweet_li),\n",
    "             \"promoted\": is_promoted_tweet(tweet_li)\n",
    "            }\n",
    "    return _json\n",
    "    \n",
    "    "
   ]
  },
  {
   "cell_type": "code",
   "execution_count": 43,
   "metadata": {},
   "outputs": [
    {
     "data": {
      "text/plain": [
       "{'text': 'We are receiving news from commuters, stating that the North South Line is running with Delays right now\\n\\nDo expect some additional travelling time on the North South Line, due to a Faulty Track at Marsiling Northbound\\n\\n@SMRT_Singapore pic.twitter.com/kRgXDEprKJ',\n",
       " 'date': '1574851485000',\n",
       " 'tweetId': '1199640194015645697',\n",
       " 'num_replies': 0,\n",
       " 'num_retweets': 0,\n",
       " 'num_fav': 0,\n",
       " 'verified': False,\n",
       " 'promoted': False}"
      ]
     },
     "execution_count": 43,
     "metadata": {},
     "output_type": "execute_result"
    }
   ],
   "source": [
    "munge_tweet_li(tweets[0])"
   ]
  },
  {
   "cell_type": "code",
   "execution_count": 44,
   "metadata": {},
   "outputs": [
    {
     "name": "stdout",
     "output_type": "stream",
     "text": [
      "{'text': 'We are receiving news from commuters, stating that the North South Line is running with Delays right now\\n\\nDo expect some additional travelling time on the North South Line, due to a Faulty Track at Marsiling Northbound\\n\\n@SMRT_Singapore pic.twitter.com/kRgXDEprKJ', 'date': '1574851485000', 'tweetId': '1199640194015645697', 'num_replies': 0, 'num_retweets': 0, 'num_fav': 0, 'verified': False, 'promoted': False}\n",
      "\n",
      "{'text': \"Yeah gonna guess it's something to do with a delay pic.twitter.com/uhn02vC1ub\", 'date': '1573087367000', 'tweetId': '1192240949604179968', 'num_replies': 0, 'num_retweets': 0, 'num_fav': 0, 'verified': False, 'promoted': False}\n",
      "\n",
      "{'text': '@SMRT_Singapore Train service delay from OTP NSEW,  toward Tuas Link? Dwell time more than 5 mins every station.', 'date': '1572103075000', 'tweetId': '1188112528443727877', 'num_replies': 0, 'num_retweets': 0, 'num_fav': 0, 'verified': False, 'promoted': False}\n",
      "\n",
      "{'text': 'yo @SMRT_Singapore, how many days do you guys need before your shit are fixed??? can this delay stop happening during peak hours before work? & you guys have the face to keep increasing the price lmao. what a joke.', 'date': '1571701928000', 'tweetId': '1186429996077764614', 'num_replies': 0, 'num_retweets': 0, 'num_fav': 0, 'verified': False, 'promoted': False}\n",
      "\n",
      "{'text': '@SMRT_Singapore total lack of communication regarding train delay > 30 mins during rush hr this morning from JE to Buona V!', 'date': '1562120064000', 'tweetId': '1146240745491197952', 'num_replies': 0, 'num_retweets': 0, 'num_fav': 0, 'verified': False, 'promoted': False}\n",
      "\n",
      "{'text': '@SMRT_Singapore Trains moving like  from JE to Buona Vista due to screen door. Expect 30 mins delay!', 'date': '1562116601000', 'tweetId': '1146226219177795584', 'num_replies': 0, 'num_retweets': 0, 'num_fav': 0, 'verified': False, 'promoted': False}\n",
      "\n",
      "{'text': \"@SMRT_Singapore another annoucement of travelling time extended due to platform screen doors fault fm boon lay to bouna vista stns? Its already more than 30mins & I haven't even reached Dover fm Boon Lay stn. Delay is more than10mins annouced!  Pls review yr system & improve.\", 'date': '1562116014000', 'tweetId': '1146223759038140416', 'num_replies': 0, 'num_retweets': 0, 'num_fav': 0, 'verified': False, 'promoted': False}\n",
      "\n",
      "{'text': 'please announce if there is a train delay so we working adults can plan our transport to work in advance & not trapped in a train that moves every 5 mins & gets forced to alight at a random station @SMRT_Singapore.', 'date': '1560296433000', 'tweetId': '1138591884559888384', 'num_replies': 0, 'num_retweets': 0, 'num_fav': 1, 'verified': False, 'promoted': False}\n",
      "\n",
      "{'text': 'Hi Train fault at admiralty causing a delay on the red line! Any official announcement?', 'date': '1560296385000', 'tweetId': '1138591681253478401', 'num_replies': 0, 'num_retweets': 0, 'num_fav': 1, 'verified': False, 'promoted': False}\n",
      "\n",
      "{'text': '@SMRT_Singapore pls make announcement if there’s delay in the NS line towards Jurong. So we could make other transport plans.', 'date': '1560295568000', 'tweetId': '1138588252640645121', 'num_replies': 0, 'num_retweets': 0, 'num_fav': 3, 'verified': False, 'promoted': False}\n",
      "\n"
     ]
    }
   ],
   "source": [
    "# Lets look at the first 10 tweets.\n",
    "for t in tweets[:10]:\n",
    "    print(munge_tweet_li(t))\n",
    "    print()"
   ]
  },
  {
   "cell_type": "markdown",
   "metadata": {},
   "source": [
    "# Ah ha!! Any tweet with \"delay\" can be treated as my positive examples!!!\n",
    "\n",
    "Having the \"delay\" in the query seems to be a good proxy to detect the \"positive\" examples of identifying the \"delay\" related tweets =)"
   ]
  },
  {
   "cell_type": "code",
   "execution_count": 45,
   "metadata": {},
   "outputs": [
    {
     "name": "stdout",
     "output_type": "stream",
     "text": [
      "https://twitter.com/i/search/timeline?f=tweets&vertical=default&include_available_features=1&include_entities=1&reset_error_state=false&src=typd&max_position=thGAVUV0VFVBaGgKfNtda27h4WgsCq6dCZ_aUhEjUAFQAlAFUAFQAA&q=['@smrt_singapore', 'delay']&l=en\n"
     ]
    }
   ],
   "source": [
    "print(url)"
   ]
  },
  {
   "cell_type": "markdown",
   "metadata": {},
   "source": [
    "# Previously, the above URL only gets us the first page of the search query, now lets get all pages."
   ]
  },
  {
   "cell_type": "code",
   "execution_count": 46,
   "metadata": {},
   "outputs": [
    {
     "data": {
      "text/plain": [
       "'thGAVUV0VFVBaGgKfNtda27h4WgsCq6dCZ_aUhEjUAFQAlAFUAFQAA'"
      ]
     },
     "execution_count": 46,
     "metadata": {},
     "output_type": "execute_result"
    }
   ],
   "source": [
    "# It looks like there's some sort of search pointers that are non integers\n",
    "# to prevent people from just loop through the pages by doing += 1 to some \n",
    "# variables, so it's some hashes hidden in <div class=\"stream-container\" ... > ... </div>\n",
    "bsoup.find(\"div\", {\"class\": \"stream-container\"})[\"data-min-position\"]"
   ]
  },
  {
   "cell_type": "code",
   "execution_count": null,
   "metadata": {},
   "outputs": [
    {
     "name": "stderr",
     "output_type": "stream",
     "text": [
      "\r",
      "  0%|          | 0/10000 [00:00<?, ?it/s]"
     ]
    },
    {
     "name": "stdout",
     "output_type": "stream",
     "text": [
      "https://twitter.com/i/search/timeline?f=tweets&vertical=default&include_available_features=1&include_entities=1&reset_error_state=false&src=typd&max_position=thGAVUV0VFVBaGgKfNtda27h4WgsCq6dCZ_aUhEjUAFQAlAFUAFQAA&q=@smrt_singapore delay&l=en\n"
     ]
    },
    {
     "name": "stderr",
     "output_type": "stream",
     "text": [
      "\r",
      "  0%|          | 1/10000 [00:00<2:05:33,  1.33it/s]"
     ]
    },
    {
     "name": "stdout",
     "output_type": "stream",
     "text": [
      "https://twitter.com/i/search/timeline?f=tweets&vertical=default&include_available_features=1&include_entities=1&reset_error_state=false&src=typd&max_position=thGAVUV0VFVBaEgKOt472XsB4WgsCq6dCZ_aUhEjUAFQAlAFUAFQAA&q=@smrt_singapore delay&l=en\n"
     ]
    },
    {
     "name": "stderr",
     "output_type": "stream",
     "text": [
      "\r",
      "  0%|          | 2/10000 [00:01<2:17:29,  1.21it/s]"
     ]
    },
    {
     "name": "stdout",
     "output_type": "stream",
     "text": [
      "https://twitter.com/i/search/timeline?f=tweets&vertical=default&include_available_features=1&include_entities=1&reset_error_state=false&src=typd&max_position=thGAVUV0VFVBaAwKfV88bHth0WgsCq6dCZ_aUhEjUAFQAlAFUAFQAA&q=@smrt_singapore delay&l=en\n"
     ]
    },
    {
     "name": "stderr",
     "output_type": "stream",
     "text": [
      "\r",
      "  0%|          | 3/10000 [00:02<2:19:11,  1.20it/s]"
     ]
    },
    {
     "name": "stdout",
     "output_type": "stream",
     "text": [
      "https://twitter.com/i/search/timeline?f=tweets&vertical=default&include_available_features=1&include_entities=1&reset_error_state=false&src=typd&max_position=thGAVUV0VFVBaAwKON_avh9hwWgsCq6dCZ_aUhEjUAFQAlAFUAFQAA&q=@smrt_singapore delay&l=en\n"
     ]
    },
    {
     "name": "stderr",
     "output_type": "stream",
     "text": [
      "\r",
      "  0%|          | 4/10000 [00:03<2:42:51,  1.02it/s]"
     ]
    },
    {
     "name": "stdout",
     "output_type": "stream",
     "text": [
      "https://twitter.com/i/search/timeline?f=tweets&vertical=default&include_available_features=1&include_entities=1&reset_error_state=false&src=typd&max_position=thGAVUV0VFVBaAwKeVjZCI2RwWgsCq6dCZ_aUhEjUAFQAlAFUAFQAA&q=@smrt_singapore delay&l=en\n"
     ]
    },
    {
     "name": "stderr",
     "output_type": "stream",
     "text": [
      "\r",
      "  0%|          | 5/10000 [00:04<2:35:09,  1.07it/s]"
     ]
    }
   ],
   "source": [
    "# Given the above knowledge, I can parse through the pages like this.\n",
    "# First get the first page as before...\n",
    "\n",
    "# Generate the URL.\n",
    "lang='en'\n",
    "query = ['@smrt_singapore', 'delay']\n",
    "url = twitter_url(query, lang, since='2010-01-01', until='2020-01-20')\n",
    "reponse = requests.get(url, headers=headers).content.decode('utf8')\n",
    "bsoup = BeautifulSoup(reponse, 'lxml')\n",
    "\n",
    "# After looking at the web-structure of the page, I find that tweets are in \n",
    "# <li data-item-type=\"tweet\"> ... </li>\n",
    "tweets = bsoup.find_all(\"li\", {\"data-item-type\": \"tweet\"})\n",
    "\n",
    "tweet_jsons = [munge_tweet_li(t) for t in tweets]\n",
    "\n",
    "# Then lets iterate through an arbitary no. of pages.\n",
    "max_pages = 10000\n",
    "# We fetch that hash pointer that was pointing to the next batch of tweets.\n",
    "next_pointer = bsoup.find(\"div\", {\"class\": \"stream-container\"})[\"data-min-position\"]\n",
    "\n",
    "# Now, we find that the next page of tweets URL is not exactly the same as before.\n",
    "# It requires (i) hash of the next pointer, (ii) query and (iii) lang.\n",
    "next_tweet_page_url = str('https://twitter.com/i/search/timeline?f=tweets&vertical=' \n",
    "                          'default&include_available_features=1&include_entities=1&' \n",
    "                          'reset_error_state=false&src=typd&max_position={pos}&q={q}&l={lang}')\n",
    "\n",
    "# Iterate through the max no. of pages.\n",
    "for i in tqdm(range(max_pages)):\n",
    "    url = next_tweet_page_url.format(q=' '.join(query), lang=lang, pos = next_pointer)\n",
    "    print(url)\n",
    "    # Fetch the URL\n",
    "    response = requests.get(url, headers=headers)\n",
    "    # Do some checks to make sure that the requests gets the page.\n",
    "    # Then just skips it if it's not successful, i.e. status_code != 200\n",
    "    if response.status_code != 200:\n",
    "        continue \n",
    "    # This is interesting because no the timeline outputs itself, actually\n",
    "    # iterates through the timeline of the queries rather than the original\n",
    "    # search results. So we can immediate try to get the json object \n",
    "    # that stores the html we need to parse.\n",
    "    reponse_content = response.content.decode('utf8')\n",
    "    try:\n",
    "        json_resp = json.loads(reponse_content)\n",
    "        html = json_resp['items_html']\n",
    "    except: # Skip pages that we can't parse.\n",
    "        print('what')\n",
    "        continue\n",
    "    # Similar to the first page, we look for the tweets.\n",
    "    tweets = bsoup.find_all(\"li\", {\"data-item-type\": \"tweet\"})\n",
    "    if tweets: # Munge it the same way.\n",
    "        tweet_jsons.extend([munge_tweet_li(t) for t in tweets])\n",
    "    # If there's no more next items to load, just exit the loop\n",
    "    \n",
    "    if (not json_resp['has_more_items']) and (json_resp[\"new_latent_count\"] == 0):\n",
    "        break\n",
    "    # Find and update the next_pointer for the next page to load.\n",
    "    next_pointer = json_resp['min_position']\n",
    "   "
   ]
  },
  {
   "cell_type": "code",
   "execution_count": 48,
   "metadata": {},
   "outputs": [
    {
     "data": {
      "text/plain": [
       "0"
      ]
     },
     "execution_count": 48,
     "metadata": {},
     "output_type": "execute_result"
    }
   ],
   "source": [
    "len(tweet_jsons)"
   ]
  },
  {
   "cell_type": "code",
   "execution_count": 41,
   "metadata": {},
   "outputs": [
    {
     "data": {
      "text/plain": [
       "\"https://twitter.com/i/search/timeline?f=tweets&vertical=default&include_available_features=1&include_entities=1&reset_error_state=false&src=typd&max_position=thGAVUV0VFVBaGgKfNtda27h4WgsCq6dCZ_aUhEjUAFQAlAFUAFQAA&q=['@smrt_singapore', 'delay']&l=en\""
      ]
     },
     "execution_count": 41,
     "metadata": {},
     "output_type": "execute_result"
    }
   ],
   "source": [
    "url"
   ]
  },
  {
   "cell_type": "code",
   "execution_count": 24,
   "metadata": {},
   "outputs": [
    {
     "ename": "NameError",
     "evalue": "name 'json' is not defined",
     "output_type": "error",
     "traceback": [
      "\u001b[0;31m---------------------------------------------------------------------------\u001b[0m",
      "\u001b[0;31mNameError\u001b[0m                                 Traceback (most recent call last)",
      "\u001b[0;32m<ipython-input-24-30ab4e995fff>\u001b[0m in \u001b[0;36m<module>\u001b[0;34m\u001b[0m\n\u001b[0;32m----> 1\u001b[0;31m \u001b[0mjson_resp\u001b[0m \u001b[0;34m=\u001b[0m \u001b[0mjson\u001b[0m\u001b[0;34m.\u001b[0m\u001b[0mloads\u001b[0m\u001b[0;34m(\u001b[0m\u001b[0mreponse_content\u001b[0m\u001b[0;34m)\u001b[0m\u001b[0;34m\u001b[0m\u001b[0m\n\u001b[0m",
      "\u001b[0;31mNameError\u001b[0m: name 'json' is not defined"
     ]
    }
   ],
   "source": [
    "json_resp = json.loads(reponse_content)"
   ]
  },
  {
   "cell_type": "code",
   "execution_count": 38,
   "metadata": {},
   "outputs": [
    {
     "data": {
      "text/plain": [
       "{'min_position': 'thGAVUV0VFVBaGgKfNtda27h4WgsCq6dCZ_aUhEjUAFQAlAFUAFQAA',\n",
       " 'has_more_items': False,\n",
       " 'items_html': '\\n\\n\\n\\n\\n\\n\\n\\n\\n\\n\\n\\n\\n\\n\\n \\n',\n",
       " 'new_latent_count': 0,\n",
       " 'focused_refresh_interval': 30000}"
      ]
     },
     "execution_count": 38,
     "metadata": {},
     "output_type": "execute_result"
    }
   ],
   "source": [
    "json_resp"
   ]
  },
  {
   "cell_type": "code",
   "execution_count": null,
   "metadata": {},
   "outputs": [],
   "source": []
  },
  {
   "cell_type": "code",
   "execution_count": null,
   "metadata": {},
   "outputs": [],
   "source": []
  },
  {
   "cell_type": "code",
   "execution_count": null,
   "metadata": {},
   "outputs": [],
   "source": []
  },
  {
   "cell_type": "code",
   "execution_count": null,
   "metadata": {},
   "outputs": [],
   "source": []
  },
  {
   "cell_type": "code",
   "execution_count": null,
   "metadata": {},
   "outputs": [],
   "source": []
  },
  {
   "cell_type": "code",
   "execution_count": null,
   "metadata": {},
   "outputs": [],
   "source": []
  }
 ],
 "metadata": {
  "kernelspec": {
   "display_name": "Python 3",
   "language": "python",
   "name": "python3"
  }
 },
 "nbformat": 4,
 "nbformat_minor": 2
}
